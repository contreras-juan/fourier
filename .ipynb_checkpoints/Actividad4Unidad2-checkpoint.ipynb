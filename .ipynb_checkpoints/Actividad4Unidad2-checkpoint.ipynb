{
 "cells": [
  {
   "cell_type": "code",
   "execution_count": 34,
   "metadata": {},
   "outputs": [],
   "source": [
    "# Librerías necesarios\n",
    "import numpy as np\n",
    "import scipy.stats as stats\n",
    "from math import pi\n",
    "import matplotlib.pyplot as plt\n",
    "import scipy.io.wavfile as waves\n",
    "from scipy import fftpack"
   ]
  },
  {
   "cell_type": "code",
   "execution_count": 5,
   "metadata": {},
   "outputs": [],
   "source": [
    "# Se realiza una transformada discreta de Fourier de una dimensión\n",
    "A = 10\n",
    "B = 256\n",
    "C = np.linspace(0,A,B)\n",
    "ft = 3*np.sin(2*pi*3.6*C + 2) + 1\n",
    "fou = np.fft.fft(ft)/B\n",
    "fou = np.fft.fftshift(fou)"
   ]
  },
  {
   "cell_type": "code",
   "execution_count": 6,
   "metadata": {},
   "outputs": [
    {
     "name": "stderr",
     "output_type": "stream",
     "text": [
      "C:\\Users\\felip\\Anaconda3\\lib\\site-packages\\ipykernel_launcher.py:1: RuntimeWarning: divide by zero encountered in true_divide\n",
      "  \"\"\"Entry point for launching an IPython kernel.\n"
     ]
    },
    {
     "data": {
      "text/plain": [
       "[<matplotlib.lines.Line2D at 0x2719fc88eb8>]"
      ]
     },
     "execution_count": 6,
     "metadata": {},
     "output_type": "execute_result"
    },
    {
     "data": {
      "image/png": "[encoded data removed]",
      "text/plain": [
       "<Figure size 432x288 with 1 Axes>"
      ]
     },
     "metadata": {
      "needs_background": "light"
     },
     "output_type": "display_data"
    }
   ],
   "source": [
    "fre = np.fft.fftfreq(B,float(A)/C) # Se obtienen las frecuencias de la serie de datos\n",
    "fre = np.fft.fftshift(fre)\n",
    "plt.plot(fre,abs(fou))\n",
    "plt.show()"
   ]
  },
  {
   "cell_type": "code",
   "execution_count": 7,
   "metadata": {},
   "outputs": [
    {
     "name": "stdout",
     "output_type": "stream",
     "text": [
      "[ 3.72789228-9.02056208e-17j -1.75544353-1.73472348e-16j\n",
      " -0.77344829-1.83880688e-16j  1.99605714-1.42247325e-16j\n",
      " -1.01183625+1.76941795e-16j -1.45425894-2.77555756e-17j\n",
      "  3.58575699+1.59594560e-16j -3.81264337+1.47451495e-17j\n",
      "  1.96779855-1.12757026e-16j  0.58990538-2.91433544e-16j\n",
      " -1.97652   +7.63278329e-17j  1.17069551-3.46944695e-18j\n",
      "  1.23401551-1.66533454e-16j -3.46635585+7.28583860e-17j\n",
      "  3.88203277-8.32667268e-17j -2.17486779-2.77555756e-16j\n",
      " -0.39767895+3.46944695e-17j  1.94072613-1.66533454e-16j\n",
      " -1.31769918-2.04697370e-16j -1.01249397+6.59194921e-17j\n",
      "  3.33348434+1.42247325e-16j -3.93568151+1.24900090e-16j\n",
      "  2.37552031-2.28983499e-16j  0.19781888+4.01588485e-16j\n",
      " -1.88887104-1.73472348e-17j  1.45204439+1.94289029e-16j\n",
      "  0.79090419+2.70616862e-16j -3.18786813+1.00613962e-16j\n",
      "  3.97329658-1.38777878e-16j -2.56866021+3.33066907e-16j\n",
      "  0.00858326-1.11022302e-16j  1.82123794+1.60461922e-17j\n",
      " -1.57299738-6.93889390e-18j -0.57045641+2.70616862e-16j\n",
      "  3.03030256+3.15719673e-16j -3.99467253+1.14491749e-16j\n",
      "  2.75323263-1.28369537e-16j -0.22040018-5.55111512e-17j\n",
      " -1.73819621-3.53883589e-16j  1.67989755-6.85215773e-17j\n",
      "  0.35235466-1.73472348e-18j -2.86164817+2.63677968e-16j\n",
      "  3.99969261-6.93889390e-18j -2.92822951+2.46330734e-16j\n",
      "  0.436475  +1.38777878e-16j  1.64019941-3.46944695e-17j\n",
      " -1.77216104+2.77555756e-17j -0.13779012+1.38777878e-16j\n",
      "  2.6828261 -4.85722573e-17j -3.98832942+2.77555756e-17j\n",
      "  3.09269507+2.67147415e-16j -0.65562759+1.04083409e-17j\n",
      " -1.52778275-1.42247325e-16j  1.84928396-9.71445147e-17j\n",
      " -0.07206532-3.46944695e-17j -2.49481303-5.42101086e-16j\n",
      "  3.96064501-7.11236625e-17j -3.24573105-2.77555756e-17j\n",
      "  0.87666103-2.28983499e-16j  1.40156022+1.73472348e-17j\n",
      " -1.91084507+1.38777878e-16j  0.27606552-1.66533454e-16j\n",
      "  2.2986358 +0.00000000e+00j -3.91679058-1.47451495e-16j\n",
      "  3.38650162+7.63278329e-17j -1.0983681 -2.28983499e-16j\n",
      " -1.2622212 -2.39391840e-16j  1.95650816-1.21430643e-16j\n",
      " -0.47309629-1.56125113e-16j -2.09536588-2.77555756e-17j\n",
      "  3.85700565+3.12250226e-16j -3.51423796+4.25007252e-17j\n",
      "  1.31953793+5.37764278e-17j  1.11052671-1.24900090e-16j\n",
      " -1.98602383+1.17961196e-16j  0.66208152-3.46944695e-18j\n",
      "  1.88611344-2.77555756e-16j -3.78161675+3.81639165e-17j\n",
      "  3.62824239+5.55111512e-17j -1.53896254-1.66533454e-16j\n",
      " -0.94730525+6.24500451e-17j  1.99923086+6.93889390e-18j\n",
      " -0.84198904-2.60208521e-16j -1.67202136-4.51028104e-17j\n",
      "  3.69103562+3.12250226e-17j -3.72789228+4.16333634e-17j\n",
      "  1.75544353+1.04083409e-16j  0.77344829+4.57099636e-16j\n",
      " -1.99605714+7.28583860e-17j  1.01183625+1.66533454e-16j\n",
      "  1.45425894+2.15105711e-16j -3.58575699-1.04083409e-17j\n",
      "  3.81264337+1.38777878e-17j -1.96779855+2.22044605e-16j\n",
      " -0.58990538+2.77555756e-17j  1.97652   +1.15792792e-16j\n",
      " -1.17069551-3.46944695e-17j -1.23401551+2.70616862e-16j\n",
      "  3.46635585+2.04697370e-16j -3.88203277+8.67361738e-17j\n",
      "  2.17486779+3.81639165e-17j  0.39767895+5.55111512e-17j\n",
      " -1.94072613-3.12250226e-16j  1.31769918+9.80118764e-17j\n",
      "  1.01249397-1.73472348e-18j -3.33348434+1.24900090e-16j\n",
      "  3.93568151-1.17961196e-16j -2.37552031-1.42247325e-16j\n",
      " -0.19781888+3.05311332e-16j  1.88887104+0.00000000e+00j\n",
      " -1.45204439-8.32667268e-17j -0.79090419+3.05311332e-16j\n",
      "  3.18786813-1.59594560e-16j -3.97329658-2.77555756e-17j\n",
      "  2.56866021+2.11636264e-16j -0.00858326+1.21430643e-16j\n",
      " -1.82123794-3.81639165e-17j  1.57299738+1.38777878e-17j\n",
      "  0.57045641+2.08166817e-17j -3.03030256-4.58834359e-16j\n",
      "  3.99467253-1.54390389e-16j -2.75323263-4.16333634e-16j\n",
      "  0.22040018-2.28983499e-16j  1.73819621+3.46944695e-18j\n",
      " -1.67989755+2.77555756e-17j -0.35235466-5.55111512e-17j\n",
      "  2.86164817+5.55111512e-17j -3.99969261-1.43982049e-16j\n",
      "  2.92822951+2.08166817e-17j -0.436475  -2.84494650e-16j\n",
      " -1.64019941-1.83880688e-16j  1.77216104-8.67361738e-17j\n",
      "  0.13779012-4.51028104e-17j -2.6828261 -2.77555756e-17j\n",
      "  3.98832942+2.15105711e-16j -3.09269507-1.51788304e-16j\n",
      "  0.65562759-1.73472348e-18j  1.52778275-6.93889390e-17j\n",
      " -1.84928396+1.59594560e-16j  0.07206532-3.46944695e-18j\n",
      "  2.49481303-2.77555756e-16j -3.96064501+1.73472348e-17j\n",
      "  3.24573105+2.77555756e-17j -0.87666103-2.77555756e-16j\n",
      " -1.40156022+2.01227923e-16j  1.91084507+5.55111512e-17j\n",
      " -0.27606552-2.04697370e-16j -2.2986358 -4.51028104e-17j\n",
      "  3.91679058-1.35308431e-16j -3.38650162+6.93889390e-17j\n",
      "  1.0983681 +2.15105711e-16j  1.2622212 +4.01588485e-16j\n",
      " -1.95650816+2.04697370e-16j  0.47309629+1.94289029e-16j\n",
      "  2.09536588+1.59594560e-16j -3.85700565+4.51028104e-17j\n",
      "  3.51423796-8.32667268e-17j -1.31953793+2.22044605e-16j\n",
      " -1.11052671-5.55111512e-17j  1.98602383+1.27068495e-16j\n",
      " -0.66208152-6.93889390e-18j -1.88611344+1.59594560e-16j\n",
      "  3.78161675+2.60208521e-16j -3.62824239+1.70002901e-16j\n",
      "  1.53896254+9.36750677e-17j  0.94730525-5.55111512e-17j\n",
      " -1.99923086-2.15105711e-16j  0.84198904+4.25007252e-17j\n",
      "  1.67202136-1.73472348e-18j -3.69103562+9.71445147e-17j\n",
      "  3.72789228-1.73472348e-16j -1.75544353-8.67361738e-17j\n",
      " -0.77344829+2.49800181e-16j  1.99605714-7.63278329e-17j\n",
      " -1.01183625-2.77555756e-17j -1.45425894+1.38777878e-16j\n",
      "  3.58575699-1.59594560e-16j -3.81264337+8.32667268e-17j\n",
      "  1.96779855+2.67147415e-16j  0.58990538+1.04083409e-17j\n",
      " -1.97652   +6.59194921e-17j  1.17069551+6.93889390e-17j\n",
      "  1.23401551-3.46944695e-17j -3.46635585-4.31078784e-16j\n",
      "  3.88203277-1.82145965e-16j -2.17486779-3.60822483e-16j\n",
      " -0.39767895-2.28983499e-16j  1.94072613-1.04083409e-17j\n",
      " -1.31769918+8.32667268e-17j -1.01249397-1.66533454e-16j\n",
      "  3.33348434+0.00000000e+00j -3.93568151-3.64291930e-17j\n",
      "  2.37552031-3.46944695e-17j  0.19781888-2.28983499e-16j\n",
      " -1.88887104-2.39391840e-16j  1.45204439-1.35308431e-16j\n",
      "  0.79090419+6.59194921e-17j -3.18786813+8.32667268e-17j\n",
      "  3.97329658+1.17961196e-16j -2.56866021+1.53523028e-16j\n",
      "  0.00858326+5.37764278e-17j  1.82123794+4.16333634e-17j\n",
      " -1.57299738+1.17961196e-16j -0.57045641-3.46944695e-18j\n",
      "  3.03030256-1.66533454e-16j -3.99467253-1.28369537e-16j\n",
      "  2.75323263+0.00000000e+00j -0.22040018-1.66533454e-16j\n",
      " -1.73819621+1.73472348e-16j  1.67989755+2.08166817e-17j\n",
      "  0.35235466-2.60208521e-16j -2.86164817+6.59194921e-17j\n",
      "  3.99969261-7.97972799e-17j -2.92822951-2.35922393e-16j\n",
      "  0.436475  -6.93889390e-18j  1.64019941+4.57099636e-16j\n",
      " -1.77216104+1.90819582e-16j -0.13779012+3.33066907e-16j\n",
      "  2.6828261 +2.15105711e-16j -3.98832942-1.21430643e-16j\n",
      "  3.09269507-2.35922393e-16j -0.65562759+1.11022302e-16j\n",
      " -1.52778275+1.38777878e-16j  1.84928396+1.85181731e-16j\n",
      " -0.07206532+2.08166817e-17j -2.49481303+1.59594560e-16j\n",
      "  3.96064501+1.49186219e-16j -3.24573105+3.12250226e-17j\n",
      "  0.87666103+3.81639165e-17j  1.40156022+5.55111512e-17j\n",
      " -1.91084507-9.02056208e-17j  0.27606552-1.30104261e-17j\n",
      "  2.2986358 -1.73472348e-18j -3.91679058-4.16333634e-17j\n",
      "  3.38650162-1.17961196e-16j -1.0983681 -3.12250226e-17j\n",
      " -1.2622212 +1.94289029e-16j  1.95650816+1.11022302e-16j\n",
      " -0.47309629+8.32667268e-17j -2.09536588+3.05311332e-16j\n",
      "  3.85700565-4.85722573e-17j -3.51423796+5.55111512e-17j\n",
      "  1.31953793+1.00613962e-16j  1.11052671-1.00613962e-16j\n",
      " -1.98602383+7.28583860e-17j  0.66208152+1.38777878e-17j\n",
      "  1.88611344+1.31838984e-16j -3.78161675-4.03323208e-16j\n",
      "  3.62824239-2.94902991e-17j -1.53896254-8.32667268e-17j\n",
      " -0.94730525-2.28983499e-16j  1.99923086+3.46944695e-18j\n",
      " -0.84198904+1.94289029e-16j -1.67202136-4.99600361e-16j\n",
      "  3.69103562-5.55111512e-17j -3.72789228-1.16226473e-16j]\n"
     ]
    }
   ],
   "source": [
    "temp = B*np.fft.ifft(fou)\n",
    "print(temp)"
   ]
  },
  {
   "cell_type": "code",
   "execution_count": 35,
   "metadata": {},
   "outputs": [],
   "source": [
    "# Se importa el audio en formato .wav\n",
    "frecuencia, sonido = waves.read(\"D:/BIT/JuanFelipeContrerasU2A04/audio.wav\")"
   ]
  },
  {
   "cell_type": "code",
   "execution_count": 36,
   "metadata": {},
   "outputs": [
    {
     "data": {
      "text/plain": [
       "array([0, 0, 0, ..., 0, 0, 0], dtype=int16)"
      ]
     },
     "execution_count": 36,
     "metadata": {},
     "output_type": "execute_result"
    }
   ],
   "source": [
    "# Se extrae el sonido izquierdo del audio\n",
    "izquierdo = sonido[:,0].copy()\n",
    "izquierdo"
   ]
  },
  {
   "cell_type": "code",
   "execution_count": 38,
   "metadata": {},
   "outputs": [],
   "source": [
    "# Se utiliza la transformada discreta de fourier para conseguir las frecuencias del vector izquierdo del audio\n",
    "freqs = fftpack.fftfreq(len(izquierdo)) * frecuencia"
   ]
  },
  {
   "cell_type": "code",
   "execution_count": 64,
   "metadata": {},
   "outputs": [],
   "source": [
    "bajas = izquierdo[freqs < 100] # Se eliminan secciones del audio con frecuencia inferior a 100 HZ\n",
    "altas = izquierdo[freqs > 400] # Se eliminan secciones del audio con frecuencia superior a 400 HZ\n",
    "condition = np.logical_or(freqs < 350, freqs >  80) # Se establece condición lógica de frecuencia entre 80 y 350 HZ\n",
    "medio = izquierdo[condition] # Se eliminan secciones del audio con frecuencia entre 80 y 350 HZ"
   ]
  },
  {
   "cell_type": "code",
   "execution_count": 65,
   "metadata": {},
   "outputs": [],
   "source": [
    "waves.write(\"D:/BIT/JuanFelipeContrerasU2A04/bajas.wav\", frecuencia, bajas) # se exporta la parte baja del audio\n",
    "waves.write(\"D:/BIT/JuanFelipeContrerasU2A04/altas.wav\", frecuencia, altas) # se exporta la parte alta del audio\n",
    "waves.write(\"D:/BIT/JuanFelipeContrerasU2A04/medio.wav\", frecuencia, medio) # se exporta la parte media del audio"
   ]
  },
  {
   "cell_type": "code",
   "execution_count": null,
   "metadata": {},
   "outputs": [],
   "source": []
  },
  {
   "cell_type": "code",
   "execution_count": null,
   "metadata": {},
   "outputs": [],
   "source": []
  }
 ],
 "metadata": {
  "kernelspec": {
   "display_name": "Python 3",
   "language": "python",
   "name": "python3"
  },
  "language_info": {
   "codemirror_mode": {
    "name": "ipython",
    "version": 3
   },
   "file_extension": ".py",
   "mimetype": "text/x-python",
   "name": "python",
   "nbconvert_exporter": "python",
   "pygments_lexer": "ipython3",
   "version": "3.7.3"
  }
 },
 "nbformat": 4,
 "nbformat_minor": 4
}
